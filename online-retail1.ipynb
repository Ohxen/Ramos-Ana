{
    "metadata": {
        "kernelspec": {
            "name": "SQL",
            "display_name": "SQL",
            "language": "sql"
        },
        "language_info": {
            "name": "sql",
            "version": ""
        }
    },
    "nbformat_minor": 2,
    "nbformat": 4,
    "cells": [
        {
            "cell_type": "markdown",
            "source": [
                "## **Project description**\n",
                "\n",
                "The project will provide a real world data set information focusing in an online purchases. providing insides regarding purchases in 2010 and 2011, analyze in scale what where the most common pattern, as well as insightful dashboards.\n",
                "\n",
                "Objective    \n",
                "\n",
                "In this project, my primary focus is on addressing key challenges related to shipment and inventory management within the supply chain. To achieve this goal efficiently, the project has been divided into few objectives.\n",
                "\n",
                "## <span style=\"color: rgb(0, 0, 0);\"><b><br></b></span>**Data preparation**"
            ],
            "metadata": {
                "azdata_cell_guid": "408af6c9-7a58-4a3e-a51d-9504c85103fc"
            },
            "attachments": {}
        },
        {
            "cell_type": "code",
            "source": [
                "  select count(*)\r\n",
                "  from PortfolioProjects..[Online Retail]\r\n",
                " -- 541,909"
            ],
            "metadata": {
                "azdata_cell_guid": "591c2bd1-3815-4b16-a05d-2b63f26ed21c",
                "language": "sql",
                "tags": []
            },
            "outputs": [
                {
                    "output_type": "display_data",
                    "data": {
                        "text/html": "(1 row affected)"
                    },
                    "metadata": {}
                },
                {
                    "output_type": "display_data",
                    "data": {
                        "text/html": "Total execution time: 00:00:00.179"
                    },
                    "metadata": {}
                },
                {
                    "output_type": "execute_result",
                    "execution_count": 3,
                    "data": {
                        "application/vnd.dataresource+json": {
                            "schema": {
                                "fields": [
                                    {
                                        "name": "(No column name)"
                                    }
                                ]
                            },
                            "data": [
                                {
                                    "(No column name)": "541909"
                                }
                            ]
                        },
                        "text/html": "<table><tr><th>(No column name)</th></tr><tr><td>541909</td></tr></table>"
                    },
                    "metadata": {}
                }
            ],
            "execution_count": 3
        },
        {
            "cell_type": "code",
            "source": [
                "  select * into  Oniline_worsheet from PortfolioProjects..[Online Retail]\r\n",
                "\r\n",
                "\r\n",
                "  select *\r\n",
                "  from PortfolioProjects..Oniline_worsheet"
            ],
            "metadata": {
                "azdata_cell_guid": "9fc5c3f4-7a23-4c7a-9962-6cebf983b902",
                "language": "sql"
            },
            "outputs": [],
            "execution_count": null
        },
        {
            "cell_type": "markdown",
            "source": [
                "   <span style=\"color: var(--vscode-foreground);\">&nbsp;After examining the data fields, I noticed that the dataset generally represents the following key information</span>\n",
                "\n",
                "- CustomerID: Specific  information about customers.\n",
                "    \n",
                "- Invoicenumber: Information about the order.\n",
                "    \n",
                "- Date and time: Date information when the order was placed and a what time. \n",
                "    \n",
                "- Stuck number: Specific information about the ordered item including product name and description. \n",
                "    \n",
                "- Price: Information on inventory management for each product name including monthly inventory, storage costs, quantity.\n",
                "    \n",
                "- Country: information on the country where the order was placed.\n",
                "    \n",
                "\n",
                "## **Data Cleaning**"
            ],
            "metadata": {
                "azdata_cell_guid": "1626d263-949b-42e2-87f9-7807df6fe686"
            },
            "attachments": {}
        },
        {
            "cell_type": "markdown",
            "source": [
                "The dataset contains duplicated values."
            ],
            "metadata": {
                "azdata_cell_guid": "8b213c37-3d07-4a85-8a38-2307f4795bf2"
            },
            "attachments": {}
        },
        {
            "cell_type": "markdown",
            "source": [
                "Blank spaces\n",
                "\n",
                "There was a huge amount of blank spaces in the dataset specially in the customerID and the description( was replace with NaN)."
            ],
            "metadata": {
                "azdata_cell_guid": "f7a1260d-34ca-46e7-95a9-9139070fbcb3"
            },
            "attachments": {}
        },
        {
            "cell_type": "code",
            "source": [
                "  select distinct [StockCode],[InvoiceNo] \r\n",
                "from PortfolioProjects..Oniline_worsheet\r\n",
                "\r\n",
                "select [InvoiceNo],\r\n",
                "[InvoiceDate],\r\n",
                "[InvoiceTime],\r\n",
                "[StockCode],\r\n",
                "[Description],\r\n",
                "[UnitPrice],\r\n",
                "[Totalsale],\r\n",
                "[CustomerID],\r\n",
                "[Country]\r\n",
                " from PortfolioProjects..Oniline_worsheet\r\n",
                " where ([Description]is null)\r\n",
                "\r\n",
                "\r\n",
                " -- duplicates\r\n",
                "\r\n",
                " select min ([StockCode]) as [InvoiceNo],[InvoiceDate],[InvoiceTime],[StockCode],[Description],[Quantity],[UnitPrice],[Totalsale],[CustomerID],[Country]\r\n",
                " from PortfolioProjects..Oniline_worsheet\r\n",
                " group by [InvoiceNo],[InvoiceDate],[InvoiceTime],[StockCode],[Description],[Quantity],[UnitPrice],[Totalsale],[CustomerID],[Country]\r\n",
                " order by [StockCode]"
            ],
            "metadata": {
                "azdata_cell_guid": "e9f1d9e7-686c-4e26-8aff-7bfa2bb25f95",
                "language": "sql"
            },
            "outputs": [],
            "execution_count": null
        },
        {
            "cell_type": "markdown",
            "source": [
                "## **Standarizing data**"
            ],
            "metadata": {
                "azdata_cell_guid": "1ce0a672-9209-4525-bcb9-51d7f2a77485"
            },
            "attachments": {}
        },
        {
            "cell_type": "code",
            "source": [
                " select\r\n",
                " [Description], upper(left([Description],1)) + lower(substring([Description] ,2, len([Description]))) as description_proper\r\n",
                " from PortfolioProjects..Oniline_worsheet\r\n",
                "\r\n",
                " update PortfolioProjects..Oniline_worsheet\r\n",
                " set Description =  upper(left([Description],1)) + lower(substring([Description] ,2, len([Description])))\r\n",
                ""
            ],
            "metadata": {
                "azdata_cell_guid": "0161bfc6-1142-42eb-8481-33f81c9c7dd3",
                "language": "sql"
            },
            "outputs": [],
            "execution_count": null
        },
        {
            "cell_type": "code",
            "source": [
                "  select Ltrim(Rtrim([Description])) as TRM_one\r\n",
                "  from PortfolioProjects..Oniline_worsheet\r\n",
                ""
            ],
            "metadata": {
                "azdata_cell_guid": "c1b33ef3-a176-4c06-a2ce-05d97106899b",
                "language": "sql"
            },
            "outputs": [],
            "execution_count": null
        },
        {
            "cell_type": "markdown",
            "source": [
                "Removing unwanted characters"
            ],
            "metadata": {
                "azdata_cell_guid": "503f21c8-c862-4ac6-86d7-02ef24f6524b"
            },
            "attachments": {}
        },
        {
            "cell_type": "code",
            "source": [
                " select [Country],\r\n",
                "SUBSTRING([Country],1, PATINDEX('%[a-z]%',[Country])-1) \r\n",
                "\r\n",
                " CustomerId,\r\n",
                " \r\n",
                " case \r\n",
                "\twhen [Country] not like '%[a-z]%' then 'default_value'\r\n",
                "\t\telse substring([Country],PATINDEX('%[a-z]%',[Country]), len ([Country]))\r\n",
                "end  as Country_name\r\n",
                "from PortfolioProjects..Oniline_worsheet\r\n",
                "\r\n",
                "update PortfolioProjects..Oniline_worsheet\r\n",
                "set CustomerId  = SUBSTRING([Country],1, PATINDEX('%[a-z]%',[Country])-1) "
            ],
            "metadata": {
                "azdata_cell_guid": "b3661809-937e-4b4c-af4f-d9230228a412",
                "language": "sql"
            },
            "outputs": [],
            "execution_count": null
        },
        {
            "cell_type": "markdown",
            "source": [
                "## **Formating**\n",
                "\n",
                "- changing data type"
            ],
            "metadata": {
                "azdata_cell_guid": "36007611-f5aa-4e9d-862b-52404137b070"
            },
            "attachments": {}
        },
        {
            "cell_type": "code",
            "source": [
                "alter table PortfolioProjects..Oniline_worsheet\r\n",
                "add concat_st varchar(50)\r\n",
                "\r\n",
                "alter table PortfolioProjects..Oniline_worsheet\r\n",
                "alter column [InvoiceDate] date\r\n",
                "\r\n",
                "alter table PortfolioProjects..Oniline_worsheet\r\n",
                "alter column[Totalsale]  float"
            ],
            "metadata": {
                "azdata_cell_guid": "609b051c-9178-43a2-b4c5-1dfa1f9e9f71",
                "language": "sql"
            },
            "outputs": [],
            "execution_count": null
        },
        {
            "cell_type": "markdown",
            "source": [
                "## **Consultation**\n",
                "\n",
                "Max and min quantity regarding the unit quantity per product."
            ],
            "metadata": {
                "azdata_cell_guid": "02c8a011-f934-49b5-a879-ed5777e2f69e"
            },
            "attachments": {}
        },
        {
            "cell_type": "code",
            "source": [
                "select max([Quantity]) as max_quantity\r\n",
                "from PortfolioProjects..Oniline_worsheet\r\n",
                "--12540\r\n",
                "\r\n",
                "select min([Quantity]) as min_quantity\r\n",
                "from PortfolioProjects..Oniline_worsheet\r\n",
                "-- -9600"
            ],
            "metadata": {
                "azdata_cell_guid": "77299d92-37cd-4319-81e7-6984b86b9eb0",
                "language": "sql"
            },
            "outputs": [
                {
                    "output_type": "display_data",
                    "data": {
                        "text/html": "(1 row affected)"
                    },
                    "metadata": {}
                },
                {
                    "output_type": "display_data",
                    "data": {
                        "text/html": "(1 row affected)"
                    },
                    "metadata": {}
                },
                {
                    "output_type": "display_data",
                    "data": {
                        "text/html": "Total execution time: 00:00:00.703"
                    },
                    "metadata": {}
                },
                {
                    "output_type": "execute_result",
                    "execution_count": 8,
                    "data": {
                        "application/vnd.dataresource+json": {
                            "schema": {
                                "fields": [
                                    {
                                        "name": "max_quantity"
                                    }
                                ]
                            },
                            "data": [
                                {
                                    "max_quantity": "12540"
                                }
                            ]
                        },
                        "text/html": "<table><tr><th>max_quantity</th></tr><tr><td>12540</td></tr></table>"
                    },
                    "metadata": {}
                },
                {
                    "output_type": "execute_result",
                    "execution_count": 8,
                    "data": {
                        "application/vnd.dataresource+json": {
                            "schema": {
                                "fields": [
                                    {
                                        "name": "min_quantity"
                                    }
                                ]
                            },
                            "data": [
                                {
                                    "min_quantity": "-9600"
                                }
                            ]
                        },
                        "text/html": "<table><tr><th>min_quantity</th></tr><tr><td>-9600</td></tr></table>"
                    },
                    "metadata": {}
                }
            ],
            "execution_count": 8
        },
        {
            "cell_type": "markdown",
            "source": [
                "Max and min unit price per product."
            ],
            "metadata": {
                "azdata_cell_guid": "c1c5c176-a3e5-4516-bad3-69a9d24f2c64"
            },
            "attachments": {}
        },
        {
            "cell_type": "code",
            "source": [
                "\r\n",
                "select max([UnitPrice]) as unit_price\r\n",
                "from PortfolioProjects..Oniline_worsheet\r\n",
                "-- 38970\r\n",
                "\r\n",
                "select min([UnitPrice]) as unit_price\r\n",
                "from PortfolioProjects..Oniline_worsheet\r\n",
                ""
            ],
            "metadata": {
                "azdata_cell_guid": "708e746f-3a0f-4bd9-a39e-b86d5d2d882c",
                "language": "sql"
            },
            "outputs": [
                {
                    "output_type": "display_data",
                    "data": {
                        "text/html": "(1 row affected)"
                    },
                    "metadata": {}
                },
                {
                    "output_type": "display_data",
                    "data": {
                        "text/html": "(1 row affected)"
                    },
                    "metadata": {}
                },
                {
                    "output_type": "display_data",
                    "data": {
                        "text/html": "Total execution time: 00:00:04.212"
                    },
                    "metadata": {}
                },
                {
                    "output_type": "execute_result",
                    "metadata": {},
                    "execution_count": 1,
                    "data": {
                        "application/vnd.dataresource+json": {
                            "schema": {
                                "fields": [
                                    {
                                        "name": "unit_price"
                                    }
                                ]
                            },
                            "data": [
                                {
                                    "unit_price": "38970"
                                }
                            ]
                        },
                        "text/html": [
                            "<table>",
                            "<tr><th>unit_price</th></tr>",
                            "<tr><td>38970</td></tr>",
                            "</table>"
                        ]
                    }
                },
                {
                    "output_type": "execute_result",
                    "metadata": {},
                    "execution_count": 1,
                    "data": {
                        "application/vnd.dataresource+json": {
                            "schema": {
                                "fields": [
                                    {
                                        "name": "unit_price"
                                    }
                                ]
                            },
                            "data": [
                                {
                                    "unit_price": "0"
                                }
                            ]
                        },
                        "text/html": [
                            "<table>",
                            "<tr><th>unit_price</th></tr>",
                            "<tr><td>0</td></tr>",
                            "</table>"
                        ]
                    }
                }
            ],
            "execution_count": 1
        },
        {
            "cell_type": "markdown",
            "source": [
                "Max and min total sale price per product."
            ],
            "metadata": {
                "azdata_cell_guid": "ce46fce9-595d-4df3-955d-3d6a041d7213"
            },
            "attachments": {}
        },
        {
            "cell_type": "code",
            "source": [
                "\r\n",
                "select max([Totalsale]) as total_sale\r\n",
                "from PortfolioProjects..Oniline_worsheet\r\n",
                "\r\n",
                "-- 38970\r\n",
                "\r\n",
                "select min([Totalsale]) as total_sale\r\n",
                "from PortfolioProjects..Oniline_worsheet\r\n",
                "-- -38970\r\n",
                "\r\n",
                ""
            ],
            "metadata": {
                "azdata_cell_guid": "79086892-c0f7-47b0-b19c-bb4f5051bee5",
                "language": "sql"
            },
            "outputs": [
                {
                    "output_type": "display_data",
                    "data": {
                        "text/html": "(1 row affected)"
                    },
                    "metadata": {}
                },
                {
                    "output_type": "display_data",
                    "data": {
                        "text/html": "(1 row affected)"
                    },
                    "metadata": {}
                },
                {
                    "output_type": "display_data",
                    "data": {
                        "text/html": "Total execution time: 00:00:01.178"
                    },
                    "metadata": {}
                },
                {
                    "output_type": "execute_result",
                    "metadata": {},
                    "execution_count": 3,
                    "data": {
                        "application/vnd.dataresource+json": {
                            "schema": {
                                "fields": [
                                    {
                                        "name": "total_sale"
                                    }
                                ]
                            },
                            "data": [
                                {
                                    "total_sale": "38970"
                                }
                            ]
                        },
                        "text/html": [
                            "<table>",
                            "<tr><th>total_sale</th></tr>",
                            "<tr><td>38970</td></tr>",
                            "</table>"
                        ]
                    }
                },
                {
                    "output_type": "execute_result",
                    "metadata": {},
                    "execution_count": 3,
                    "data": {
                        "application/vnd.dataresource+json": {
                            "schema": {
                                "fields": [
                                    {
                                        "name": "total_sale"
                                    }
                                ]
                            },
                            "data": [
                                {
                                    "total_sale": "-38970"
                                }
                            ]
                        },
                        "text/html": [
                            "<table>",
                            "<tr><th>total_sale</th></tr>",
                            "<tr><td>-38970</td></tr>",
                            "</table>"
                        ]
                    }
                }
            ],
            "execution_count": 3
        },
        {
            "cell_type": "markdown",
            "source": [
                "Let´s take a look on the top 10 or the most common order placed per country.  it is a fact that the country that appears the most is the UK"
            ],
            "metadata": {
                "azdata_cell_guid": "0f1a10bc-61d7-4d4f-9108-d6ab18adf61e"
            },
            "attachments": {}
        },
        {
            "cell_type": "code",
            "source": [
                "-- most purchased product per country \r\n",
                "\r\n",
                " select top 10 [Country],[Description],\r\n",
                " sum([Quantity] * [UnitPrice]) as product_country\r\n",
                " from PortfolioProjects..Oniline_worsheet\r\n",
                " group by [Country], [Description]\r\n",
                " order by product_country desc;"
            ],
            "metadata": {
                "azdata_cell_guid": "a3f33024-6209-40e5-bb78-fa4ae5e005fb",
                "language": "sql"
            },
            "outputs": [
                {
                    "output_type": "display_data",
                    "data": {
                        "text/html": "(10 rows affected)"
                    },
                    "metadata": {}
                },
                {
                    "output_type": "display_data",
                    "data": {
                        "text/html": "Total execution time: 00:00:00.939"
                    },
                    "metadata": {}
                },
                {
                    "output_type": "execute_result",
                    "execution_count": 12,
                    "data": {
                        "application/vnd.dataresource+json": {
                            "schema": {
                                "fields": [
                                    {
                                        "name": "Country"
                                    },
                                    {
                                        "name": "Description"
                                    },
                                    {
                                        "name": "product_country"
                                    }
                                ]
                            },
                            "data": [
                                {
                                    "Country": "United Kingdom",
                                    "Description": "Regency cakestand 3 tier",
                                    "product_country": "134405.9399999999"
                                },
                                {
                                    "Country": "United Kingdom",
                                    "Description": "White hanging heart t-light holder",
                                    "product_country": "93953.06999999906"
                                },
                                {
                                    "Country": "United Kingdom",
                                    "Description": "Party bunting",
                                    "product_country": "92501.73000000065"
                                },
                                {
                                    "Country": "United Kingdom",
                                    "Description": "Jumbo bag red retrospot",
                                    "product_country": "84516.44000000067"
                                },
                                {
                                    "Country": "United Kingdom",
                                    "Description": "Paper chain kit 50's christmas",
                                    "product_country": "61888.18999999982"
                                },
                                {
                                    "Country": "United Kingdom",
                                    "Description": "Assorted colour bird ornament",
                                    "product_country": "54662.1499999995"
                                },
                                {
                                    "Country": "United Kingdom",
                                    "Description": "Chilli lights",
                                    "product_country": "52986.85999999998"
                                },
                                {
                                    "Country": "United Kingdom",
                                    "Description": "Picnic basket wicker 60 pieces",
                                    "product_country": "39619.5"
                                },
                                {
                                    "Country": "United Kingdom",
                                    "Description": "Black record cover frame",
                                    "product_country": "39387.00000000002"
                                },
                                {
                                    "Country": "United Kingdom",
                                    "Description": "Rabbit night light",
                                    "product_country": "37894.16000000001"
                                }
                            ]
                        },
                        "text/html": "<table><tr><th>Country</th><th>Description</th><th>product_country</th></tr><tr><td>United Kingdom</td><td>Regency cakestand 3 tier</td><td>134405.9399999999</td></tr><tr><td>United Kingdom</td><td>White hanging heart t-light holder</td><td>93953.06999999906</td></tr><tr><td>United Kingdom</td><td>Party bunting</td><td>92501.73000000065</td></tr><tr><td>United Kingdom</td><td>Jumbo bag red retrospot</td><td>84516.44000000067</td></tr><tr><td>United Kingdom</td><td>Paper chain kit 50&#39;s christmas</td><td>61888.18999999982</td></tr><tr><td>United Kingdom</td><td>Assorted colour bird ornament</td><td>54662.1499999995</td></tr><tr><td>United Kingdom</td><td>Chilli lights</td><td>52986.85999999998</td></tr><tr><td>United Kingdom</td><td>Picnic basket wicker 60 pieces</td><td>39619.5</td></tr><tr><td>United Kingdom</td><td>Black record cover frame</td><td>39387.00000000002</td></tr><tr><td>United Kingdom</td><td>Rabbit night light</td><td>37894.16000000001</td></tr></table>"
                    },
                    "metadata": {}
                }
            ],
            "execution_count": 12
        },
        {
            "cell_type": "markdown",
            "source": [
                "Top 10 best selling product taking into consideration the quantity."
            ],
            "metadata": {
                "azdata_cell_guid": "9adf1838-07ed-4ab7-84ef-87817fabb901"
            },
            "attachments": {}
        },
        {
            "cell_type": "code",
            "source": [
                "-- best selling product per quantity\r\n",
                "\r\n",
                "  select top 10 [StockCode],[Description],[Country], max ([Quantity]) as revenue_country\r\n",
                " from PortfolioProjects..Oniline_worsheet\r\n",
                " group by [StockCode],[Description],[Country]\r\n",
                " order by revenue_country desc;"
            ],
            "metadata": {
                "azdata_cell_guid": "9282ad29-db64-4680-89ad-ca46cec2c79e",
                "language": "sql"
            },
            "outputs": [
                {
                    "output_type": "display_data",
                    "data": {
                        "text/html": "(10 rows affected)"
                    },
                    "metadata": {}
                },
                {
                    "output_type": "display_data",
                    "data": {
                        "text/html": "Total execution time: 00:00:01.172"
                    },
                    "metadata": {}
                },
                {
                    "output_type": "execute_result",
                    "execution_count": 13,
                    "data": {
                        "application/vnd.dataresource+json": {
                            "schema": {
                                "fields": [
                                    {
                                        "name": "StockCode"
                                    },
                                    {
                                        "name": "Description"
                                    },
                                    {
                                        "name": "Country"
                                    },
                                    {
                                        "name": "revenue_country"
                                    }
                                ]
                            },
                            "data": [
                                {
                                    "StockCode": "84826",
                                    "Description": "Asstd design 3d paper stickers",
                                    "Country": "United Kingdom",
                                    "revenue_country": "12540"
                                },
                                {
                                    "StockCode": "84077",
                                    "Description": "World war 2 gliders asstd designs",
                                    "Country": "United Kingdom",
                                    "revenue_country": "4800"
                                },
                                {
                                    "StockCode": "22197",
                                    "Description": "Small popcorn holder",
                                    "Country": "United Kingdom",
                                    "revenue_country": "4300"
                                },
                                {
                                    "StockCode": "85123A",
                                    "Description": "Nan",
                                    "Country": "United Kingdom",
                                    "revenue_country": "4000"
                                },
                                {
                                    "StockCode": "21108",
                                    "Description": "Fairy cake flannel assorted colour",
                                    "Country": "United Kingdom",
                                    "revenue_country": "3114"
                                },
                                {
                                    "StockCode": "23343",
                                    "Description": "Came coded as 20713",
                                    "Country": "United Kingdom",
                                    "revenue_country": "3100"
                                },
                                {
                                    "StockCode": "84988",
                                    "Description": "Nan",
                                    "Country": "United Kingdom",
                                    "revenue_country": "3000"
                                },
                                {
                                    "StockCode": "84879",
                                    "Description": "Assorted colour bird ornament",
                                    "Country": "United Kingdom",
                                    "revenue_country": "2880"
                                },
                                {
                                    "StockCode": "21977",
                                    "Description": "Pack of 60 pink paisley cake cases",
                                    "Country": "United Kingdom",
                                    "revenue_country": "2700"
                                },
                                {
                                    "StockCode": "79063D",
                                    "Description": "Nan",
                                    "Country": "United Kingdom",
                                    "revenue_country": "2560"
                                }
                            ]
                        },
                        "text/html": "<table><tr><th>StockCode</th><th>Description</th><th>Country</th><th>revenue_country</th></tr><tr><td>84826</td><td>Asstd design 3d paper stickers</td><td>United Kingdom</td><td>12540</td></tr><tr><td>84077</td><td>World war 2 gliders asstd designs</td><td>United Kingdom</td><td>4800</td></tr><tr><td>22197</td><td>Small popcorn holder</td><td>United Kingdom</td><td>4300</td></tr><tr><td>85123A</td><td>Nan</td><td>United Kingdom</td><td>4000</td></tr><tr><td>21108</td><td>Fairy cake flannel assorted colour</td><td>United Kingdom</td><td>3114</td></tr><tr><td>23343</td><td>Came coded as 20713</td><td>United Kingdom</td><td>3100</td></tr><tr><td>84988</td><td>Nan</td><td>United Kingdom</td><td>3000</td></tr><tr><td>84879</td><td>Assorted colour bird ornament</td><td>United Kingdom</td><td>2880</td></tr><tr><td>21977</td><td>Pack of 60 pink paisley cake cases</td><td>United Kingdom</td><td>2700</td></tr><tr><td>79063D</td><td>Nan</td><td>United Kingdom</td><td>2560</td></tr></table>"
                    },
                    "metadata": {}
                }
            ],
            "execution_count": 13
        },
        {
            "cell_type": "markdown",
            "source": [
                "<span style=\"color: var(--vscode-foreground);\">The highest sales revenue&nbsp;</span>   \n",
                "\n",
                "- was  in the UK as it stated before \n",
                "- it was a picnic basket wicker 60 pieces"
            ],
            "metadata": {
                "azdata_cell_guid": "2c98c20a-07f0-419f-8a2a-3f3a619ba5e2"
            },
            "attachments": {}
        },
        {
            "cell_type": "code",
            "source": [
                "\r\n",
                " select *\r\n",
                " from PortfolioProjects..Oniline_worsheet\r\n",
                " where [Totalsale] in (select max([Totalsale])\r\n",
                " from PortfolioProjects..Oniline_worsheet)\r\n",
                ""
            ],
            "metadata": {
                "azdata_cell_guid": "8995525a-bddd-4bf6-af35-3e7ec78a8e01",
                "language": "sql"
            },
            "outputs": [
                {
                    "output_type": "display_data",
                    "data": {
                        "text/html": "(1 row affected)"
                    },
                    "metadata": {}
                },
                {
                    "output_type": "display_data",
                    "data": {
                        "text/html": "Total execution time: 00:00:00.728"
                    },
                    "metadata": {}
                },
                {
                    "output_type": "execute_result",
                    "execution_count": 14,
                    "data": {
                        "application/vnd.dataresource+json": {
                            "schema": {
                                "fields": [
                                    {
                                        "name": "InvoiceNo"
                                    },
                                    {
                                        "name": "InvoiceDate"
                                    },
                                    {
                                        "name": "InvoiceTime"
                                    },
                                    {
                                        "name": "StockCode"
                                    },
                                    {
                                        "name": "Description"
                                    },
                                    {
                                        "name": "Quantity"
                                    },
                                    {
                                        "name": "UnitPrice"
                                    },
                                    {
                                        "name": "Totalsale"
                                    },
                                    {
                                        "name": "CustomerID"
                                    },
                                    {
                                        "name": "Country"
                                    }
                                ]
                            },
                            "data": [
                                {
                                    "InvoiceNo": "556444",
                                    "InvoiceDate": "2011-10-06",
                                    "InvoiceTime": "15:28:00.0000000",
                                    "StockCode": "22502",
                                    "Description": "Picnic basket wicker 60 pieces",
                                    "Quantity": "60",
                                    "UnitPrice": "649.5",
                                    "Totalsale": "38970",
                                    "CustomerID": "15098",
                                    "Country": "United Kingdom"
                                }
                            ]
                        },
                        "text/html": "<table><tr><th>InvoiceNo</th><th>InvoiceDate</th><th>InvoiceTime</th><th>StockCode</th><th>Description</th><th>Quantity</th><th>UnitPrice</th><th>Totalsale</th><th>CustomerID</th><th>Country</th></tr><tr><td>556444</td><td>2011-10-06</td><td>15:28:00.0000000</td><td>22502</td><td>Picnic basket wicker 60 pieces</td><td>60</td><td>649.5</td><td>38970</td><td>15098</td><td>United Kingdom</td></tr></table>"
                    },
                    "metadata": {}
                }
            ],
            "execution_count": 14
        },
        {
            "cell_type": "markdown",
            "source": [
                "Top 10 purchased per customer based on quantity."
            ],
            "metadata": {
                "azdata_cell_guid": "2b2840eb-246b-4c81-a99b-8202011d7996"
            },
            "attachments": {}
        },
        {
            "cell_type": "code",
            "source": [
                "\r\n",
                " select top 10 [Country],[CustomerID],\r\n",
                " sum ([Quantity] * [UnitPrice]) as revenue_country\r\n",
                " from PortfolioProjects..Oniline_worsheet\r\n",
                " group by [Country], [CustomerID]\r\n",
                " order by revenue_country desc; "
            ],
            "metadata": {
                "azdata_cell_guid": "c3140a3e-f4e9-4b1f-b91c-8c165b10016b",
                "language": "sql"
            },
            "outputs": [
                {
                    "output_type": "display_data",
                    "data": {
                        "text/html": "(10 rows affected)"
                    },
                    "metadata": {}
                },
                {
                    "output_type": "display_data",
                    "data": {
                        "text/html": "Total execution time: 00:00:00.952"
                    },
                    "metadata": {}
                },
                {
                    "output_type": "execute_result",
                    "execution_count": 15,
                    "data": {
                        "application/vnd.dataresource+json": {
                            "schema": {
                                "fields": [
                                    {
                                        "name": "Country"
                                    },
                                    {
                                        "name": "CustomerID"
                                    },
                                    {
                                        "name": "revenue_country"
                                    }
                                ]
                            },
                            "data": [
                                {
                                    "Country": "United Kingdom",
                                    "CustomerID": "",
                                    "revenue_country": "1197854.2199998393"
                                },
                                {
                                    "Country": "Netherlands",
                                    "CustomerID": "14646",
                                    "revenue_country": "240633.14000000025"
                                },
                                {
                                    "Country": "United Kingdom",
                                    "CustomerID": "18102",
                                    "revenue_country": "188755.11999999997"
                                },
                                {
                                    "Country": "United Kingdom",
                                    "CustomerID": "17450",
                                    "revenue_country": "159074.34999999992"
                                },
                                {
                                    "Country": "EIRE",
                                    "CustomerID": "14911",
                                    "revenue_country": "102782.35999999949"
                                },
                                {
                                    "Country": "Australia",
                                    "CustomerID": "12415",
                                    "revenue_country": "102422.72"
                                },
                                {
                                    "Country": "EIRE",
                                    "CustomerID": "14156",
                                    "revenue_country": "90066.69999999972"
                                },
                                {
                                    "Country": "United Kingdom",
                                    "CustomerID": "17511",
                                    "revenue_country": "76231.93999999999"
                                },
                                {
                                    "Country": "United Kingdom",
                                    "CustomerID": "16684",
                                    "revenue_country": "57254.33999999997"
                                },
                                {
                                    "Country": "United Kingdom",
                                    "CustomerID": "13089",
                                    "revenue_country": "51000.749999999956"
                                }
                            ]
                        },
                        "text/html": "<table><tr><th>Country</th><th>CustomerID</th><th>revenue_country</th></tr><tr><td>United Kingdom</td><td></td><td>1197854.2199998393</td></tr><tr><td>Netherlands</td><td>14646</td><td>240633.14000000025</td></tr><tr><td>United Kingdom</td><td>18102</td><td>188755.11999999997</td></tr><tr><td>United Kingdom</td><td>17450</td><td>159074.34999999992</td></tr><tr><td>EIRE</td><td>14911</td><td>102782.35999999949</td></tr><tr><td>Australia</td><td>12415</td><td>102422.72</td></tr><tr><td>EIRE</td><td>14156</td><td>90066.69999999972</td></tr><tr><td>United Kingdom</td><td>17511</td><td>76231.93999999999</td></tr><tr><td>United Kingdom</td><td>16684</td><td>57254.33999999997</td></tr><tr><td>United Kingdom</td><td>13089</td><td>51000.749999999956</td></tr></table>"
                    },
                    "metadata": {}
                }
            ],
            "execution_count": 15
        },
        {
            "cell_type": "code",
            "source": [
                " -- revenue per country \r\n",
                "\r\n",
                " select top 10 [Country], sum ([Totalsale]) as revenue_country\r\n",
                " from PortfolioProjects..Oniline_worsheet\r\n",
                " group by [Country] \r\n",
                " order by revenue_country desc;"
            ],
            "metadata": {
                "azdata_cell_guid": "71b4aad7-fe6f-4a09-84e7-222ebdeee3e2",
                "language": "sql"
            },
            "outputs": [
                {
                    "output_type": "display_data",
                    "data": {
                        "text/html": "(10 rows affected)"
                    },
                    "metadata": {}
                },
                {
                    "output_type": "display_data",
                    "data": {
                        "text/html": "Total execution time: 00:00:00.721"
                    },
                    "metadata": {}
                },
                {
                    "output_type": "execute_result",
                    "execution_count": 16,
                    "data": {
                        "application/vnd.dataresource+json": {
                            "schema": {
                                "fields": [
                                    {
                                        "name": "Country"
                                    },
                                    {
                                        "name": "revenue_country"
                                    }
                                ]
                            },
                            "data": [
                                {
                                    "Country": "United Kingdom",
                                    "revenue_country": "6776279.440001392"
                                },
                                {
                                    "Country": "Netherlands",
                                    "revenue_country": "245433.35000000027"
                                },
                                {
                                    "Country": "EIRE",
                                    "revenue_country": "207205.87000000072"
                                },
                                {
                                    "Country": "Germany",
                                    "revenue_country": "161347.50999999946"
                                },
                                {
                                    "Country": "France",
                                    "revenue_country": "152097.3599999995"
                                },
                                {
                                    "Country": "Australia",
                                    "revenue_country": "114185.3299999999"
                                },
                                {
                                    "Country": "Switzerland",
                                    "revenue_country": "42980.450000000055"
                                },
                                {
                                    "Country": "Spain",
                                    "revenue_country": "38602.95000000006"
                                },
                                {
                                    "Country": "Belgium",
                                    "revenue_country": "29635.20000000011"
                                },
                                {
                                    "Country": "Japan",
                                    "revenue_country": "29418.079999999958"
                                }
                            ]
                        },
                        "text/html": "<table><tr><th>Country</th><th>revenue_country</th></tr><tr><td>United Kingdom</td><td>6776279.440001392</td></tr><tr><td>Netherlands</td><td>245433.35000000027</td></tr><tr><td>EIRE</td><td>207205.87000000072</td></tr><tr><td>Germany</td><td>161347.50999999946</td></tr><tr><td>France</td><td>152097.3599999995</td></tr><tr><td>Australia</td><td>114185.3299999999</td></tr><tr><td>Switzerland</td><td>42980.450000000055</td></tr><tr><td>Spain</td><td>38602.95000000006</td></tr><tr><td>Belgium</td><td>29635.20000000011</td></tr><tr><td>Japan</td><td>29418.079999999958</td></tr></table>"
                    },
                    "metadata": {}
                }
            ],
            "execution_count": 16
        },
        {
            "cell_type": "markdown",
            "source": [
                " How does trends vary across different month and years.\n",
                "\n",
                "- selling per total sale per unit \n",
                "- selling per month \n",
                "- selling per year"
            ],
            "metadata": {
                "azdata_cell_guid": "191424bd-9a4d-4315-aa3f-5cda158944eb"
            },
            "attachments": {}
        },
        {
            "cell_type": "code",
            "source": [
                "\r\n",
                "\r\n",
                "select year([InvoiceDate]), sum([Totalsale])\r\n",
                "from PortfolioProjects..Oniline_worsheet\r\n",
                "where year([InvoiceDate]) in (2010, 2011)\r\n",
                "group by year([InvoiceDate])"
            ],
            "metadata": {
                "azdata_cell_guid": "db91fb9a-426c-4f91-b274-c692b53c96df",
                "language": "sql"
            },
            "outputs": [
                {
                    "output_type": "display_data",
                    "data": {
                        "text/html": "(2 rows affected)"
                    },
                    "metadata": {}
                },
                {
                    "output_type": "display_data",
                    "data": {
                        "text/html": "Total execution time: 00:00:02.440"
                    },
                    "metadata": {}
                },
                {
                    "output_type": "execute_result",
                    "metadata": {},
                    "execution_count": 11,
                    "data": {
                        "application/vnd.dataresource+json": {
                            "schema": {
                                "fields": [
                                    {
                                        "name": "(No column name)"
                                    },
                                    {
                                        "name": "(No column name)"
                                    }
                                ]
                            },
                            "data": [
                                {
                                    "(No column name)": "621506.9199999975"
                                },
                                {
                                    "(No column name)": "7374348.34000135"
                                }
                            ]
                        },
                        "text/html": [
                            "<table>",
                            "<tr><th>(No column name)</th><th>(No column name)</th></tr>",
                            "<tr><td>2010</td><td>621506.9199999975</td></tr>",
                            "<tr><td>2011</td><td>7374348.34000135</td></tr>",
                            "</table>"
                        ]
                    }
                }
            ],
            "execution_count": 11
        },
        {
            "cell_type": "markdown",
            "source": [
                "The most valuable customer based on totale sales."
            ],
            "metadata": {
                "azdata_cell_guid": "8f37bccf-9c7a-456c-b6b8-0a4a8f714281"
            },
            "attachments": {}
        },
        {
            "cell_type": "code",
            "source": [
                "\r\n",
                "select top 1 [CustomerID], max ([Totalsale]) as revenue_country\r\n",
                " from PortfolioProjects..Oniline_worsheet\r\n",
                " group by [CustomerID]\r\n",
                " order by revenue_country desc;\r\n",
                ""
            ],
            "metadata": {
                "azdata_cell_guid": "7d32f7f8-cc31-4977-879d-93f33ae3046e",
                "language": "sql"
            },
            "outputs": [
                {
                    "output_type": "display_data",
                    "data": {
                        "text/html": "(1 row affected)"
                    },
                    "metadata": {}
                },
                {
                    "output_type": "display_data",
                    "data": {
                        "text/html": "Total execution time: 00:00:00.588"
                    },
                    "metadata": {}
                },
                {
                    "output_type": "execute_result",
                    "execution_count": 19,
                    "data": {
                        "application/vnd.dataresource+json": {
                            "schema": {
                                "fields": [
                                    {
                                        "name": "CustomerID"
                                    },
                                    {
                                        "name": "revenue_country"
                                    }
                                ]
                            },
                            "data": [
                                {
                                    "CustomerID": "15098",
                                    "revenue_country": "38970"
                                }
                            ]
                        },
                        "text/html": "<table><tr><th>CustomerID</th><th>revenue_country</th></tr><tr><td>15098</td><td>38970</td></tr></table>"
                    },
                    "metadata": {}
                }
            ],
            "execution_count": 19
        },
        {
            "cell_type": "markdown",
            "source": [
                "<span style=\"color: rgb(0, 0, 0);\">The correlation between quantity and the price per unit.</span>"
            ],
            "metadata": {
                "azdata_cell_guid": "72fe8768-fc74-4c23-ba83-5545ddd647cb"
            },
            "attachments": {}
        },
        {
            "cell_type": "code",
            "source": [
                "\r\n",
                " select top 10 [StockCode],[Country],[Totalsale], [UnitPrice]\r\n",
                "from PortfolioProjects..Oniline_worsheet\r\n",
                "order by [UnitPrice] desc;\r\n",
                "\r\n",
                "\r\n",
                " select top 10 [StockCode],[Country],[Totalsale],[Quantity] \r\n",
                "from PortfolioProjects..Oniline_worsheet\r\n",
                "order by [Quantity] desc;"
            ],
            "metadata": {
                "azdata_cell_guid": "5cc1c264-045d-4d6d-89e4-7be6900a2b21",
                "language": "sql"
            },
            "outputs": [
                {
                    "output_type": "display_data",
                    "data": {
                        "text/html": "(10 rows affected)"
                    },
                    "metadata": {}
                },
                {
                    "output_type": "display_data",
                    "data": {
                        "text/html": "(10 rows affected)"
                    },
                    "metadata": {}
                },
                {
                    "output_type": "display_data",
                    "data": {
                        "text/html": "Total execution time: 00:00:01.052"
                    },
                    "metadata": {}
                },
                {
                    "output_type": "execute_result",
                    "execution_count": 20,
                    "data": {
                        "application/vnd.dataresource+json": {
                            "schema": {
                                "fields": [
                                    {
                                        "name": "StockCode"
                                    },
                                    {
                                        "name": "Country"
                                    },
                                    {
                                        "name": "Totalsale"
                                    },
                                    {
                                        "name": "UnitPrice"
                                    }
                                ]
                            },
                            "data": [
                                {
                                    "StockCode": "M",
                                    "Country": "United Kingdom",
                                    "Totalsale": "-38970",
                                    "UnitPrice": "38970"
                                },
                                {
                                    "StockCode": "M",
                                    "Country": "United Kingdom",
                                    "Totalsale": "-6930",
                                    "UnitPrice": "6930"
                                },
                                {
                                    "StockCode": "M",
                                    "Country": "United Kingdom",
                                    "Totalsale": "-4287.63",
                                    "UnitPrice": "4287.63"
                                },
                                {
                                    "StockCode": "M",
                                    "Country": "United Kingdom",
                                    "Totalsale": "4287.63",
                                    "UnitPrice": "4287.63"
                                },
                                {
                                    "StockCode": "M",
                                    "Country": "France",
                                    "Totalsale": "4161.06",
                                    "UnitPrice": "4161.06"
                                },
                                {
                                    "StockCode": "M",
                                    "Country": "France",
                                    "Totalsale": "-8322.12",
                                    "UnitPrice": "4161.06"
                                },
                                {
                                    "StockCode": "M",
                                    "Country": "France",
                                    "Totalsale": "4161.06",
                                    "UnitPrice": "4161.06"
                                },
                                {
                                    "StockCode": "M",
                                    "Country": "Singapore",
                                    "Totalsale": "-3949.32",
                                    "UnitPrice": "3949.32"
                                },
                                {
                                    "StockCode": "M",
                                    "Country": "Singapore",
                                    "Totalsale": "3949.32",
                                    "UnitPrice": "3949.32"
                                },
                                {
                                    "StockCode": "M",
                                    "Country": "United Kingdom",
                                    "Totalsale": "-3155.95",
                                    "UnitPrice": "3155.95"
                                }
                            ]
                        },
                        "text/html": "<table><tr><th>StockCode</th><th>Country</th><th>Totalsale</th><th>UnitPrice</th></tr><tr><td>M</td><td>United Kingdom</td><td>-38970</td><td>38970</td></tr><tr><td>M</td><td>United Kingdom</td><td>-6930</td><td>6930</td></tr><tr><td>M</td><td>United Kingdom</td><td>-4287.63</td><td>4287.63</td></tr><tr><td>M</td><td>United Kingdom</td><td>4287.63</td><td>4287.63</td></tr><tr><td>M</td><td>France</td><td>4161.06</td><td>4161.06</td></tr><tr><td>M</td><td>France</td><td>-8322.12</td><td>4161.06</td></tr><tr><td>M</td><td>France</td><td>4161.06</td><td>4161.06</td></tr><tr><td>M</td><td>Singapore</td><td>-3949.32</td><td>3949.32</td></tr><tr><td>M</td><td>Singapore</td><td>3949.32</td><td>3949.32</td></tr><tr><td>M</td><td>United Kingdom</td><td>-3155.95</td><td>3155.95</td></tr></table>"
                    },
                    "metadata": {}
                },
                {
                    "output_type": "execute_result",
                    "execution_count": 20,
                    "data": {
                        "application/vnd.dataresource+json": {
                            "schema": {
                                "fields": [
                                    {
                                        "name": "StockCode"
                                    },
                                    {
                                        "name": "Country"
                                    },
                                    {
                                        "name": "Totalsale"
                                    },
                                    {
                                        "name": "Quantity"
                                    }
                                ]
                            },
                            "data": [
                                {
                                    "StockCode": "84826",
                                    "Country": "United Kingdom",
                                    "Totalsale": "0",
                                    "Quantity": "12540"
                                },
                                {
                                    "StockCode": "84077",
                                    "Country": "United Kingdom",
                                    "Totalsale": "1008",
                                    "Quantity": "4800"
                                },
                                {
                                    "StockCode": "22197",
                                    "Country": "United Kingdom",
                                    "Totalsale": "3096",
                                    "Quantity": "4300"
                                },
                                {
                                    "StockCode": "85123A",
                                    "Country": "United Kingdom",
                                    "Totalsale": "0",
                                    "Quantity": "4000"
                                },
                                {
                                    "StockCode": "21108",
                                    "Country": "United Kingdom",
                                    "Totalsale": "6539.4",
                                    "Quantity": "3114"
                                },
                                {
                                    "StockCode": "21108",
                                    "Country": "United Kingdom",
                                    "Totalsale": "6539.4",
                                    "Quantity": "3114"
                                },
                                {
                                    "StockCode": "23343",
                                    "Country": "United Kingdom",
                                    "Totalsale": "0",
                                    "Quantity": "3100"
                                },
                                {
                                    "StockCode": "84988",
                                    "Country": "United Kingdom",
                                    "Totalsale": "0",
                                    "Quantity": "3000"
                                },
                                {
                                    "StockCode": "84879",
                                    "Country": "United Kingdom",
                                    "Totalsale": "4176",
                                    "Quantity": "2880"
                                },
                                {
                                    "StockCode": "84077",
                                    "Country": "United Kingdom",
                                    "Totalsale": "518.4",
                                    "Quantity": "2880"
                                }
                            ]
                        },
                        "text/html": "<table><tr><th>StockCode</th><th>Country</th><th>Totalsale</th><th>Quantity</th></tr><tr><td>84826</td><td>United Kingdom</td><td>0</td><td>12540</td></tr><tr><td>84077</td><td>United Kingdom</td><td>1008</td><td>4800</td></tr><tr><td>22197</td><td>United Kingdom</td><td>3096</td><td>4300</td></tr><tr><td>85123A</td><td>United Kingdom</td><td>0</td><td>4000</td></tr><tr><td>21108</td><td>United Kingdom</td><td>6539.4</td><td>3114</td></tr><tr><td>21108</td><td>United Kingdom</td><td>6539.4</td><td>3114</td></tr><tr><td>23343</td><td>United Kingdom</td><td>0</td><td>3100</td></tr><tr><td>84988</td><td>United Kingdom</td><td>0</td><td>3000</td></tr><tr><td>84879</td><td>United Kingdom</td><td>4176</td><td>2880</td></tr><tr><td>84077</td><td>United Kingdom</td><td>518.4</td><td>2880</td></tr></table>"
                    },
                    "metadata": {}
                }
            ],
            "execution_count": 20
        },
        {
            "cell_type": "markdown",
            "source": [
                "## Conclusion\n",
                "\n",
                "Through this analysis, we successfully explored and performed data cleaning, formatting, standardizing,  will be calculated in tableau to understand and have more insights regarding previews years and how it resulted.\n",
                "\n",
                "Additionally, it has been removed some anomalous data points that could impact the analysis results. The cleaned and processed data will be exported to a csv file for further analysis and visualization in Tableau."
            ],
            "metadata": {
                "azdata_cell_guid": "84d3433d-04a4-4f3b-86ae-56de84abe44c"
            },
            "attachments": {}
        },
        {
            "cell_type": "code",
            "source": [
                ""
            ],
            "metadata": {
                "azdata_cell_guid": "679a76e4-061e-4073-847c-5af3e38329d4",
                "language": "sql"
            },
            "outputs": [],
            "execution_count": null
        }
    ]
}