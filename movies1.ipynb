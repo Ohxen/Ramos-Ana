{
    "metadata": {
        "kernelspec": {
            "name": "SQL",
            "display_name": "SQL",
            "language": "sql"
        },
        "language_info": {
            "name": "sql",
            "version": ""
        }
    },
    "nbformat_minor": 2,
    "nbformat": 4,
    "cells": [
        {
            "cell_type": "markdown",
            "source": [
                "Project <span style=\"color: rgb(0, 0, 0);\">description</span>\n",
                "\n",
                "The project will provide a real world data set information focusing on movies ratings and gross over the years . providing insides in reference of movies realized between 1920 and 2020,It will provide an analysis of the pattern during this time frame and display these results through detailed dashboards.  \n",
                "\n",
                "## **Data preparation**"
            ],
            "metadata": {
                "azdata_cell_guid": "11271e1a-ffad-4d93-8945-8ef7560695b2"
            },
            "attachments": {}
        },
        {
            "cell_type": "code",
            "source": [
                "  select count(*)\r\n",
                "  from PortfolioProjects..imdb_top_1000\r\n",
                " "
            ],
            "metadata": {
                "azdata_cell_guid": "1ebb7096-b388-4926-8c12-40f823b5f503",
                "language": "sql"
            },
            "outputs": [
                {
                    "output_type": "display_data",
                    "data": {
                        "text/html": "(1 row affected)"
                    },
                    "metadata": {}
                },
                {
                    "output_type": "display_data",
                    "data": {
                        "text/html": "Total execution time: 00:00:00.016"
                    },
                    "metadata": {}
                },
                {
                    "output_type": "execute_result",
                    "execution_count": 1,
                    "data": {
                        "application/vnd.dataresource+json": {
                            "schema": {
                                "fields": [
                                    {
                                        "name": "(No column name)"
                                    }
                                ]
                            },
                            "data": [
                                {
                                    "(No column name)": "1000"
                                }
                            ]
                        },
                        "text/html": "<table><tr><th>(No column name)</th></tr><tr><td>1000</td></tr></table>"
                    },
                    "metadata": {}
                }
            ],
            "execution_count": 1
        },
        {
            "cell_type": "code",
            "source": [
                "  select* into Movie_imdb\r\n",
                "  from PortfolioProjects..imdb_top_1000\r\n",
                ""
            ],
            "metadata": {
                "azdata_cell_guid": "fd503b85-97ab-49fe-8e9a-38efe2332fc5",
                "language": "sql",
                "tags": []
            },
            "outputs": [],
            "execution_count": null
        },
        {
            "cell_type": "markdown",
            "source": [
                "<span style=\"color: var(--vscode-foreground);\">After examining the data fields, the dataset is represented by this information below&nbsp;</span>    \n",
                "\n",
                "- Links : Where the movies can be found.\n",
                "    \n",
                "- Series title: The name of the movie.\n",
                "    \n",
                "- Released year: the year when the movie was released. \n",
                "    \n",
                "- Certificate: it will specify who can watch the movie. \n",
                "    \n",
                "- Runtime: Duration of the movie.\n",
                "    \n",
                "- Genre: Movie category\n",
                "    \n",
                "- IMDB\\_Rating: These ratings are determined by IMDb users who voluntarily rate movies and TV shows they have watched.\n",
                "    \n",
                "- Meta\\_score: Is a weighted average of reviews from top critics and publications for a given movie, TV show, video game, or album.\n",
                "    \n",
                "- Gross: Earnings per movie."
            ],
            "metadata": {
                "azdata_cell_guid": "c4594a26-3f73-40b0-a0f2-06f92335e3fa"
            },
            "attachments": {}
        },
        {
            "cell_type": "markdown",
            "source": [
                "## **Data Cleaning**\n",
                "\n",
                "There was no duplicate data, but indeed there is some null values"
            ],
            "metadata": {
                "azdata_cell_guid": "dc17f538-5259-4aae-b0d2-e0da82be85ff"
            },
            "attachments": {}
        },
        {
            "cell_type": "code",
            "source": [
                "  select distinct ([Poster_Link])\r\n",
                "  from PortfolioProjects..Movie_imdb\r\n",
                "\r\n",
                "   select*\r\n",
                " from PortfolioProjects..Movie_imdb\r\n",
                " where [Meta_score] is  null\r\n",
                ""
            ],
            "metadata": {
                "azdata_cell_guid": "01989167-194c-4960-84ef-ed92dce1a562",
                "language": "sql"
            },
            "outputs": [],
            "execution_count": null
        },
        {
            "cell_type": "markdown",
            "source": [
                "Null values within the metascore and certificate column"
            ],
            "metadata": {
                "azdata_cell_guid": "0c6b8b0a-1d96-4eca-a21c-5b12e4b689e3"
            },
            "attachments": {}
        },
        {
            "cell_type": "code",
            "source": [
                "\r\n",
                "   select*\r\n",
                " from PortfolioProjects..Movie_imdb\r\n",
                " where [Meta_score] is  null\r\n",
                "\r\n",
                " update PortfolioProjects..Movie_imdb\r\n",
                " set[Meta_score] = 0\r\n",
                " where [Meta_score] is  null"
            ],
            "metadata": {
                "azdata_cell_guid": "daf0ceb2-1b97-4d32-8a69-a06631f71e22",
                "language": "sql"
            },
            "outputs": [],
            "execution_count": null
        },
        {
            "cell_type": "markdown",
            "source": [
                "## **Standarizing data**"
            ],
            "metadata": {
                "azdata_cell_guid": "b9f5a9e4-5318-46e5-b207-4e36dc9afef6"
            },
            "attachments": {}
        },
        {
            "cell_type": "code",
            "source": [
                "  select round ([IMDB_Rating], 2) as round_num\r\n",
                "  from PortfolioProjects..Movie_imdb\r\n",
                "\r\n",
                "  update PortfolioProjects..Movie_imdb\r\n",
                "  set [IMDB_Rating] = round ([IMDB_Rating], 2) \r\n",
                "\r\n",
                "  select Ltrim(Rtrim([Gross])) as TRM_one\r\n",
                "  from PortfolioProjects..Movie_imdb\r\n",
                "\r\n",
                "  update PortfolioProjects..Movie_imdb\r\n",
                "  set [Gross] = Ltrim(Rtrim([Gross]))"
            ],
            "metadata": {
                "azdata_cell_guid": "27fe16bf-a745-45af-8c42-ac89b96fd96d",
                "language": "sql"
            },
            "outputs": [],
            "execution_count": null
        },
        {
            "cell_type": "markdown",
            "source": [
                "## **Formating**"
            ],
            "metadata": {
                "azdata_cell_guid": "c53bcb12-73c1-4a07-88b5-1deee260e1f4"
            },
            "attachments": {}
        },
        {
            "cell_type": "code",
            "source": [
                " alter table PortfolioProjects..Movie_imdb\r\n",
                " alter column [Gross] bigint"
            ],
            "metadata": {
                "azdata_cell_guid": "140e85cb-686b-40f8-abc3-49c7a7ad60ee",
                "language": "sql"
            },
            "outputs": [],
            "execution_count": null
        },
        {
            "cell_type": "markdown",
            "source": [
                "## **Consultation**\n",
                "\n",
                " In the query below we can see how´s the rating of the top 5 movies based on the gross"
            ],
            "metadata": {
                "azdata_cell_guid": "54621cd5-bd52-4e4d-aac7-81d5f14eb203"
            },
            "attachments": {}
        },
        {
            "cell_type": "code",
            "source": [
                "\r\n",
                " select top 5 [Series_Title], [IMDB_Rating], [Gross] as gross\r\n",
                "from PortfolioProjects..Movie_imdb\r\n",
                "group by [Series_Title],[IMDB_Rating],[Gross]\r\n",
                "order by gross desc;\r\n",
                ""
            ],
            "metadata": {
                "azdata_cell_guid": "afef349c-47c4-4d6e-98ab-dc21dc76d33b",
                "language": "sql"
            },
            "outputs": [
                {
                    "output_type": "display_data",
                    "data": {
                        "text/html": "(5 rows affected)"
                    },
                    "metadata": {}
                },
                {
                    "output_type": "display_data",
                    "data": {
                        "text/html": "Total execution time: 00:00:00.020"
                    },
                    "metadata": {}
                },
                {
                    "output_type": "execute_result",
                    "execution_count": 33,
                    "data": {
                        "application/vnd.dataresource+json": {
                            "schema": {
                                "fields": [
                                    {
                                        "name": "Series_Title"
                                    },
                                    {
                                        "name": "IMDB_Rating"
                                    },
                                    {
                                        "name": "gross"
                                    }
                                ]
                            },
                            "data": [
                                {
                                    "Series_Title": "Star Wars: Episode VII - The Force Awakens",
                                    "IMDB_Rating": "7.9",
                                    "gross": "936662225"
                                },
                                {
                                    "Series_Title": "Avengers: Endgame",
                                    "IMDB_Rating": "8.4",
                                    "gross": "858373000"
                                },
                                {
                                    "Series_Title": "Avatar",
                                    "IMDB_Rating": "7.8",
                                    "gross": "760507625"
                                },
                                {
                                    "Series_Title": "Avengers: Infinity War",
                                    "IMDB_Rating": "8.4",
                                    "gross": "678815482"
                                },
                                {
                                    "Series_Title": "Titanic",
                                    "IMDB_Rating": "7.8",
                                    "gross": "659325379"
                                }
                            ]
                        },
                        "text/html": "<table><tr><th>Series_Title</th><th>IMDB_Rating</th><th>gross</th></tr><tr><td>Star Wars: Episode VII - The Force Awakens</td><td>7.9</td><td>936662225</td></tr><tr><td>Avengers: Endgame</td><td>8.4</td><td>858373000</td></tr><tr><td>Avatar</td><td>7.8</td><td>760507625</td></tr><tr><td>Avengers: Infinity War</td><td>8.4</td><td>678815482</td></tr><tr><td>Titanic</td><td>7.8</td><td>659325379</td></tr></table>"
                    },
                    "metadata": {}
                }
            ],
            "execution_count": 33
        },
        {
            "cell_type": "markdown",
            "source": [
                "The minimum gross which is going to be 0, but it is an unknown value as it was  null."
            ],
            "metadata": {
                "azdata_cell_guid": "37a1e92b-773c-48c7-a37b-dd97951e4d35"
            },
            "attachments": {}
        },
        {
            "cell_type": "code",
            "source": [
                "  select min([Gross]) as ave_gross\r\n",
                " from PortfolioProjects..Movie_imdb"
            ],
            "metadata": {
                "azdata_cell_guid": "6915feaa-f815-4aef-a53e-96b8c173bb0d",
                "language": "sql"
            },
            "outputs": [
                {
                    "output_type": "display_data",
                    "data": {
                        "text/html": "(1 row affected)"
                    },
                    "metadata": {}
                },
                {
                    "output_type": "display_data",
                    "data": {
                        "text/html": "Total execution time: 00:00:00.020"
                    },
                    "metadata": {}
                },
                {
                    "output_type": "execute_result",
                    "execution_count": 29,
                    "data": {
                        "application/vnd.dataresource+json": {
                            "schema": {
                                "fields": [
                                    {
                                        "name": "ave_gross"
                                    }
                                ]
                            },
                            "data": [
                                {
                                    "ave_gross": "0"
                                }
                            ]
                        },
                        "text/html": "<table><tr><th>ave_gross</th></tr><tr><td>0</td></tr></table>"
                    },
                    "metadata": {}
                }
            ],
            "execution_count": 29
        },
        {
            "cell_type": "markdown",
            "source": [
                "The maximum rating score made by IMDB\\_rating, that is a made by people who visited the website and has seen the movie. \n",
                "\n",
                "- Something very interesting is that even though has the one of the highest  rating it does not appears as one of the top based on gross.\n",
                "- The Shawshank Redemption released in 1994 with an A certification and 9.3 IMDB rating ending with a gross of 28341469"
            ],
            "metadata": {
                "azdata_cell_guid": "28efd5a8-16a9-453e-8e71-44a418c230d3"
            },
            "attachments": {}
        },
        {
            "cell_type": "code",
            "source": [
                " select *\r\n",
                " from PortfolioProjects..Movie_imdb\r\n",
                " where [IMDB_Rating] in( select Max([IMDB_Rating]) from PortfolioProjects..Movie_imdb)\r\n",
                ""
            ],
            "metadata": {
                "azdata_cell_guid": "12cac8ca-ec7b-4319-b3e4-2e9eb37994dc",
                "language": "sql"
            },
            "outputs": [],
            "execution_count": null
        },
        {
            "cell_type": "markdown",
            "source": [
                "The Minimum  rating, based on the this dateset  the lowest rating is 7.6 which is present in 120 movies."
            ],
            "metadata": {
                "azdata_cell_guid": "faf94a4f-ac85-4281-a314-bd329c07bbbb"
            },
            "attachments": {}
        },
        {
            "cell_type": "code",
            "source": [
                "select *\r\n",
                "from PortfolioProjects..Movie_imdb\r\n",
                "where [IMDB_Rating] in ( select Min([IMDB_Rating])  from PortfolioProjects..Movie_imdb)"
            ],
            "metadata": {
                "azdata_cell_guid": "f3c2fbe9-cfe5-4645-abf6-489c7bf69f08",
                "language": "sql"
            },
            "outputs": [],
            "execution_count": null
        },
        {
            "cell_type": "markdown",
            "source": [
                "Best seller movie based on year"
            ],
            "metadata": {
                "azdata_cell_guid": "99018527-3f18-4222-9b4a-88f6c9ac8842"
            },
            "attachments": {}
        },
        {
            "cell_type": "code",
            "source": [
                "\r\n",
                " select top 5 [Series_Title],[Released_Year] , [Gross]\r\n",
                "from PortfolioProjects..Movie_imdb\r\n",
                "order by [Gross] desc;\r\n",
                ""
            ],
            "metadata": {
                "azdata_cell_guid": "e4ca852d-8979-4ba2-b415-44e5cbec18be",
                "language": "sql"
            },
            "outputs": [
                {
                    "output_type": "display_data",
                    "data": {
                        "text/html": "(5 rows affected)"
                    },
                    "metadata": {}
                },
                {
                    "output_type": "display_data",
                    "data": {
                        "text/html": "Total execution time: 00:00:00.012"
                    },
                    "metadata": {}
                },
                {
                    "output_type": "execute_result",
                    "execution_count": 34,
                    "data": {
                        "application/vnd.dataresource+json": {
                            "schema": {
                                "fields": [
                                    {
                                        "name": "Series_Title"
                                    },
                                    {
                                        "name": "Released_Year"
                                    },
                                    {
                                        "name": "Gross"
                                    }
                                ]
                            },
                            "data": [
                                {
                                    "Series_Title": "Star Wars: Episode VII - The Force Awakens",
                                    "Released_Year": "2015",
                                    "Gross": "936662225"
                                },
                                {
                                    "Series_Title": "Avengers: Endgame",
                                    "Released_Year": "2019",
                                    "Gross": "858373000"
                                },
                                {
                                    "Series_Title": "Avatar",
                                    "Released_Year": "2009",
                                    "Gross": "760507625"
                                },
                                {
                                    "Series_Title": "Avengers: Infinity War",
                                    "Released_Year": "2018",
                                    "Gross": "678815482"
                                },
                                {
                                    "Series_Title": "Titanic",
                                    "Released_Year": "1997",
                                    "Gross": "659325379"
                                }
                            ]
                        },
                        "text/html": "<table><tr><th>Series_Title</th><th>Released_Year</th><th>Gross</th></tr><tr><td>Star Wars: Episode VII - The Force Awakens</td><td>2015</td><td>936662225</td></tr><tr><td>Avengers: Endgame</td><td>2019</td><td>858373000</td></tr><tr><td>Avatar</td><td>2009</td><td>760507625</td></tr><tr><td>Avengers: Infinity War</td><td>2018</td><td>678815482</td></tr><tr><td>Titanic</td><td>1997</td><td>659325379</td></tr></table>"
                    },
                    "metadata": {}
                }
            ],
            "execution_count": 34
        },
        {
            "cell_type": "markdown",
            "source": [
                " The correlation between the audience votes and the gross from the movie"
            ],
            "metadata": {
                "azdata_cell_guid": "8dde6aa7-54b0-4bef-8450-fe0a23c8aff5"
            },
            "attachments": {}
        },
        {
            "cell_type": "code",
            "source": [
                "\r\n",
                "select top 5 [Series_Title], [No_of_Votes], [Gross], [IMDB_Rating]\r\n",
                "from PortfolioProjects..Movie_imdb\r\n",
                "order by [No_of_Votes] desc;\r\n",
                "\r\n",
                "\r\n",
                "select top 5 [Series_Title], [No_of_Votes], [Gross],[IMDB_Rating]\r\n",
                "from PortfolioProjects..Movie_imdb\r\n",
                "order by [Gross] desc;\r\n",
                ""
            ],
            "metadata": {
                "azdata_cell_guid": "310efc41-ea8e-4891-8ead-f0b165b7f6fb",
                "language": "sql"
            },
            "outputs": [
                {
                    "output_type": "display_data",
                    "data": {
                        "text/html": "(5 rows affected)"
                    },
                    "metadata": {}
                },
                {
                    "output_type": "display_data",
                    "data": {
                        "text/html": "(5 rows affected)"
                    },
                    "metadata": {}
                },
                {
                    "output_type": "display_data",
                    "data": {
                        "text/html": "Total execution time: 00:00:00.043"
                    },
                    "metadata": {}
                },
                {
                    "output_type": "execute_result",
                    "execution_count": 46,
                    "data": {
                        "application/vnd.dataresource+json": {
                            "schema": {
                                "fields": [
                                    {
                                        "name": "Series_Title"
                                    },
                                    {
                                        "name": "No_of_Votes"
                                    },
                                    {
                                        "name": "Gross"
                                    },
                                    {
                                        "name": "IMDB_Rating"
                                    }
                                ]
                            },
                            "data": [
                                {
                                    "Series_Title": "The Shawshank Redemption",
                                    "No_of_Votes": "2343110",
                                    "Gross": "28341469",
                                    "IMDB_Rating": "9.3"
                                },
                                {
                                    "Series_Title": "The Dark Knight",
                                    "No_of_Votes": "2303232",
                                    "Gross": "534858444",
                                    "IMDB_Rating": "9"
                                },
                                {
                                    "Series_Title": "Inception",
                                    "No_of_Votes": "2067042",
                                    "Gross": "292576195",
                                    "IMDB_Rating": "8.8"
                                },
                                {
                                    "Series_Title": "Fight Club",
                                    "No_of_Votes": "1854740",
                                    "Gross": "37030102",
                                    "IMDB_Rating": "8.8"
                                },
                                {
                                    "Series_Title": "Pulp Fiction",
                                    "No_of_Votes": "1826188",
                                    "Gross": "107928762",
                                    "IMDB_Rating": "8.9"
                                }
                            ]
                        },
                        "text/html": "<table><tr><th>Series_Title</th><th>No_of_Votes</th><th>Gross</th><th>IMDB_Rating</th></tr><tr><td>The Shawshank Redemption</td><td>2343110</td><td>28341469</td><td>9.3</td></tr><tr><td>The Dark Knight</td><td>2303232</td><td>534858444</td><td>9</td></tr><tr><td>Inception</td><td>2067042</td><td>292576195</td><td>8.8</td></tr><tr><td>Fight Club</td><td>1854740</td><td>37030102</td><td>8.8</td></tr><tr><td>Pulp Fiction</td><td>1826188</td><td>107928762</td><td>8.9</td></tr></table>"
                    },
                    "metadata": {}
                },
                {
                    "output_type": "execute_result",
                    "execution_count": 46,
                    "data": {
                        "application/vnd.dataresource+json": {
                            "schema": {
                                "fields": [
                                    {
                                        "name": "Series_Title"
                                    },
                                    {
                                        "name": "No_of_Votes"
                                    },
                                    {
                                        "name": "Gross"
                                    },
                                    {
                                        "name": "IMDB_Rating"
                                    }
                                ]
                            },
                            "data": [
                                {
                                    "Series_Title": "Star Wars: Episode VII - The Force Awakens",
                                    "No_of_Votes": "860823",
                                    "Gross": "936662225",
                                    "IMDB_Rating": "7.9"
                                },
                                {
                                    "Series_Title": "Avengers: Endgame",
                                    "No_of_Votes": "809955",
                                    "Gross": "858373000",
                                    "IMDB_Rating": "8.4"
                                },
                                {
                                    "Series_Title": "Avatar",
                                    "No_of_Votes": "1118998",
                                    "Gross": "760507625",
                                    "IMDB_Rating": "7.8"
                                },
                                {
                                    "Series_Title": "Avengers: Infinity War",
                                    "No_of_Votes": "834477",
                                    "Gross": "678815482",
                                    "IMDB_Rating": "8.4"
                                },
                                {
                                    "Series_Title": "Titanic",
                                    "No_of_Votes": "1046089",
                                    "Gross": "659325379",
                                    "IMDB_Rating": "7.8"
                                }
                            ]
                        },
                        "text/html": "<table><tr><th>Series_Title</th><th>No_of_Votes</th><th>Gross</th><th>IMDB_Rating</th></tr><tr><td>Star Wars: Episode VII - The Force Awakens</td><td>860823</td><td>936662225</td><td>7.9</td></tr><tr><td>Avengers: Endgame</td><td>809955</td><td>858373000</td><td>8.4</td></tr><tr><td>Avatar</td><td>1118998</td><td>760507625</td><td>7.8</td></tr><tr><td>Avengers: Infinity War</td><td>834477</td><td>678815482</td><td>8.4</td></tr><tr><td>Titanic</td><td>1046089</td><td>659325379</td><td>7.8</td></tr></table>"
                    },
                    "metadata": {}
                }
            ],
            "execution_count": 46
        },
        {
            "cell_type": "markdown",
            "source": [
                "Action and adventure are the most consistent genre base on the gross."
            ],
            "metadata": {
                "azdata_cell_guid": "7cdeffde-5296-484a-a4b5-50bf3b7a7266"
            },
            "attachments": {}
        },
        {
            "cell_type": "code",
            "source": [
                " select top 10 [Series_Title],[Genre] , [Gross]\r\n",
                "from PortfolioProjects..Movie_imdb\r\n",
                "order by [Gross] desc;\r\n",
                ""
            ],
            "metadata": {
                "azdata_cell_guid": "738ad936-9eba-4b79-ab6d-5822090f4aea",
                "language": "sql"
            },
            "outputs": [
                {
                    "output_type": "display_data",
                    "data": {
                        "text/html": "(10 rows affected)"
                    },
                    "metadata": {}
                },
                {
                    "output_type": "display_data",
                    "data": {
                        "text/html": "Total execution time: 00:00:00.036"
                    },
                    "metadata": {}
                },
                {
                    "output_type": "execute_result",
                    "execution_count": 47,
                    "data": {
                        "application/vnd.dataresource+json": {
                            "schema": {
                                "fields": [
                                    {
                                        "name": "Series_Title"
                                    },
                                    {
                                        "name": "Genre"
                                    },
                                    {
                                        "name": "Gross"
                                    }
                                ]
                            },
                            "data": [
                                {
                                    "Series_Title": "Star Wars: Episode VII - The Force Awakens",
                                    "Genre": "Action, Adventure, Sci-Fi",
                                    "Gross": "936662225"
                                },
                                {
                                    "Series_Title": "Avengers: Endgame",
                                    "Genre": "Action, Adventure, Drama",
                                    "Gross": "858373000"
                                },
                                {
                                    "Series_Title": "Avatar",
                                    "Genre": "Action, Adventure, Fantasy",
                                    "Gross": "760507625"
                                },
                                {
                                    "Series_Title": "Avengers: Infinity War",
                                    "Genre": "Action, Adventure, Sci-Fi",
                                    "Gross": "678815482"
                                },
                                {
                                    "Series_Title": "Titanic",
                                    "Genre": "Drama, Romance",
                                    "Gross": "659325379"
                                },
                                {
                                    "Series_Title": "The Avengers",
                                    "Genre": "Action, Adventure, Sci-Fi",
                                    "Gross": "623279547"
                                },
                                {
                                    "Series_Title": "Incredibles 2",
                                    "Genre": "Animation, Action, Adventure",
                                    "Gross": "608581744"
                                },
                                {
                                    "Series_Title": "The Dark Knight",
                                    "Genre": "Action, Crime, Drama",
                                    "Gross": "534858444"
                                },
                                {
                                    "Series_Title": "Rogue One",
                                    "Genre": "Action, Adventure, Sci-Fi",
                                    "Gross": "532177324"
                                },
                                {
                                    "Series_Title": "The Dark Knight Rises",
                                    "Genre": "Action, Adventure",
                                    "Gross": "448139099"
                                }
                            ]
                        },
                        "text/html": "<table><tr><th>Series_Title</th><th>Genre</th><th>Gross</th></tr><tr><td>Star Wars: Episode VII - The Force Awakens</td><td>Action, Adventure, Sci-Fi</td><td>936662225</td></tr><tr><td>Avengers: Endgame</td><td>Action, Adventure, Drama</td><td>858373000</td></tr><tr><td>Avatar</td><td>Action, Adventure, Fantasy</td><td>760507625</td></tr><tr><td>Avengers: Infinity War</td><td>Action, Adventure, Sci-Fi</td><td>678815482</td></tr><tr><td>Titanic</td><td>Drama, Romance</td><td>659325379</td></tr><tr><td>The Avengers</td><td>Action, Adventure, Sci-Fi</td><td>623279547</td></tr><tr><td>Incredibles 2</td><td>Animation, Action, Adventure</td><td>608581744</td></tr><tr><td>The Dark Knight</td><td>Action, Crime, Drama</td><td>534858444</td></tr><tr><td>Rogue One</td><td>Action, Adventure, Sci-Fi</td><td>532177324</td></tr><tr><td>The Dark Knight Rises</td><td>Action, Adventure</td><td>448139099</td></tr></table>"
                    },
                    "metadata": {}
                }
            ],
            "execution_count": 47
        },
        {
            "cell_type": "markdown",
            "source": [
                "How does the movie length and rating affects the gross\n",
                "\n",
                "- knowing the best seller in this dataset, we can see that actually there rating or the length does not has a big impact in the gross as the best seller is closer to the lowest rate."
            ],
            "metadata": {
                "azdata_cell_guid": "b2996ed2-dd08-45b0-9b18-ea76632ef067"
            },
            "attachments": {}
        },
        {
            "cell_type": "code",
            "source": [
                " select top 10 [Series_Title],[Runtime],[IMDB_Rating], [Gross]\r\n",
                "from PortfolioProjects..Movie_imdb\r\n",
                "order by [IMDB_Rating] desc;\r\n",
                "\r\n",
                ""
            ],
            "metadata": {
                "azdata_cell_guid": "ff8eb12e-0327-433d-8beb-b3e5ebdfddd6",
                "language": "sql"
            },
            "outputs": [
                {
                    "output_type": "display_data",
                    "data": {
                        "text/html": "(10 rows affected)"
                    },
                    "metadata": {}
                },
                {
                    "output_type": "display_data",
                    "data": {
                        "text/html": "Total execution time: 00:00:00.007"
                    },
                    "metadata": {}
                },
                {
                    "output_type": "execute_result",
                    "execution_count": 42,
                    "data": {
                        "application/vnd.dataresource+json": {
                            "schema": {
                                "fields": [
                                    {
                                        "name": "Series_Title"
                                    },
                                    {
                                        "name": "Runtime"
                                    },
                                    {
                                        "name": "IMDB_Rating"
                                    },
                                    {
                                        "name": "Gross"
                                    }
                                ]
                            },
                            "data": [
                                {
                                    "Series_Title": "The Shawshank Redemption",
                                    "Runtime": "142 min",
                                    "IMDB_Rating": "9.3",
                                    "Gross": "28341469"
                                },
                                {
                                    "Series_Title": "The Godfather",
                                    "Runtime": "175 min",
                                    "IMDB_Rating": "9.2",
                                    "Gross": "134966411"
                                },
                                {
                                    "Series_Title": "12 Angry Men",
                                    "Runtime": "96 min",
                                    "IMDB_Rating": "9",
                                    "Gross": "4360000"
                                },
                                {
                                    "Series_Title": "The Godfather: Part II",
                                    "Runtime": "202 min",
                                    "IMDB_Rating": "9",
                                    "Gross": "57300000"
                                },
                                {
                                    "Series_Title": "The Dark Knight",
                                    "Runtime": "152 min",
                                    "IMDB_Rating": "9",
                                    "Gross": "534858444"
                                },
                                {
                                    "Series_Title": "Schindler's List",
                                    "Runtime": "195 min",
                                    "IMDB_Rating": "8.9",
                                    "Gross": "96898818"
                                },
                                {
                                    "Series_Title": "Pulp Fiction",
                                    "Runtime": "154 min",
                                    "IMDB_Rating": "8.9",
                                    "Gross": "107928762"
                                },
                                {
                                    "Series_Title": "The Lord of the Rings: The Return of the King",
                                    "Runtime": "201 min",
                                    "IMDB_Rating": "8.9",
                                    "Gross": "377845905"
                                },
                                {
                                    "Series_Title": "The Lord of the Rings: The Fellowship of the Ring",
                                    "Runtime": "178 min",
                                    "IMDB_Rating": "8.8",
                                    "Gross": "315544750"
                                },
                                {
                                    "Series_Title": "Fight Club",
                                    "Runtime": "139 min",
                                    "IMDB_Rating": "8.8",
                                    "Gross": "37030102"
                                }
                            ]
                        },
                        "text/html": "<table><tr><th>Series_Title</th><th>Runtime</th><th>IMDB_Rating</th><th>Gross</th></tr><tr><td>The Shawshank Redemption</td><td>142 min</td><td>9.3</td><td>28341469</td></tr><tr><td>The Godfather</td><td>175 min</td><td>9.2</td><td>134966411</td></tr><tr><td>12 Angry Men</td><td>96 min</td><td>9</td><td>4360000</td></tr><tr><td>The Godfather: Part II</td><td>202 min</td><td>9</td><td>57300000</td></tr><tr><td>The Dark Knight</td><td>152 min</td><td>9</td><td>534858444</td></tr><tr><td>Schindler&#39;s List</td><td>195 min</td><td>8.9</td><td>96898818</td></tr><tr><td>Pulp Fiction</td><td>154 min</td><td>8.9</td><td>107928762</td></tr><tr><td>The Lord of the Rings: The Return of the King</td><td>201 min</td><td>8.9</td><td>377845905</td></tr><tr><td>The Lord of the Rings: The Fellowship of the Ring</td><td>178 min</td><td>8.8</td><td>315544750</td></tr><tr><td>Fight Club</td><td>139 min</td><td>8.8</td><td>37030102</td></tr></table>"
                    },
                    "metadata": {}
                }
            ],
            "execution_count": 42
        },
        {
            "cell_type": "markdown",
            "source": [
                " Meta\\_score /Gross"
            ],
            "metadata": {
                "azdata_cell_guid": "a2d1471a-51db-4745-b9ea-5e5ec719d50c"
            },
            "attachments": {}
        },
        {
            "cell_type": "code",
            "source": [
                "  select top 10  [Series_Title],[Meta_score] , [Gross]\r\n",
                "from PortfolioProjects..Movie_imdb\r\n",
                "order by [Gross] desc;"
            ],
            "metadata": {
                "azdata_cell_guid": "87f2b005-17f2-4786-84b3-f20cfc1caddb",
                "language": "sql"
            },
            "outputs": [
                {
                    "output_type": "display_data",
                    "data": {
                        "text/html": "(10 rows affected)"
                    },
                    "metadata": {}
                },
                {
                    "output_type": "display_data",
                    "data": {
                        "text/html": "Total execution time: 00:00:00.026"
                    },
                    "metadata": {}
                },
                {
                    "output_type": "execute_result",
                    "execution_count": 43,
                    "data": {
                        "application/vnd.dataresource+json": {
                            "schema": {
                                "fields": [
                                    {
                                        "name": "Series_Title"
                                    },
                                    {
                                        "name": "Meta_score"
                                    },
                                    {
                                        "name": "Gross"
                                    }
                                ]
                            },
                            "data": [
                                {
                                    "Series_Title": "Star Wars: Episode VII - The Force Awakens",
                                    "Meta_score": "80",
                                    "Gross": "936662225"
                                },
                                {
                                    "Series_Title": "Avengers: Endgame",
                                    "Meta_score": "78",
                                    "Gross": "858373000"
                                },
                                {
                                    "Series_Title": "Avatar",
                                    "Meta_score": "83",
                                    "Gross": "760507625"
                                },
                                {
                                    "Series_Title": "Avengers: Infinity War",
                                    "Meta_score": "68",
                                    "Gross": "678815482"
                                },
                                {
                                    "Series_Title": "Titanic",
                                    "Meta_score": "75",
                                    "Gross": "659325379"
                                },
                                {
                                    "Series_Title": "The Avengers",
                                    "Meta_score": "69",
                                    "Gross": "623279547"
                                },
                                {
                                    "Series_Title": "Incredibles 2",
                                    "Meta_score": "80",
                                    "Gross": "608581744"
                                },
                                {
                                    "Series_Title": "The Dark Knight",
                                    "Meta_score": "84",
                                    "Gross": "534858444"
                                },
                                {
                                    "Series_Title": "Rogue One",
                                    "Meta_score": "65",
                                    "Gross": "532177324"
                                },
                                {
                                    "Series_Title": "The Dark Knight Rises",
                                    "Meta_score": "78",
                                    "Gross": "448139099"
                                }
                            ]
                        },
                        "text/html": "<table><tr><th>Series_Title</th><th>Meta_score</th><th>Gross</th></tr><tr><td>Star Wars: Episode VII - The Force Awakens</td><td>80</td><td>936662225</td></tr><tr><td>Avengers: Endgame</td><td>78</td><td>858373000</td></tr><tr><td>Avatar</td><td>83</td><td>760507625</td></tr><tr><td>Avengers: Infinity War</td><td>68</td><td>678815482</td></tr><tr><td>Titanic</td><td>75</td><td>659325379</td></tr><tr><td>The Avengers</td><td>69</td><td>623279547</td></tr><tr><td>Incredibles 2</td><td>80</td><td>608581744</td></tr><tr><td>The Dark Knight</td><td>84</td><td>534858444</td></tr><tr><td>Rogue One</td><td>65</td><td>532177324</td></tr><tr><td>The Dark Knight Rises</td><td>78</td><td>448139099</td></tr></table>"
                    },
                    "metadata": {}
                }
            ],
            "execution_count": 43
        },
        {
            "cell_type": "markdown",
            "source": [
                "Certificate based on gross\n",
                "\n",
                "based on the dataset, movies with U/A have consistently achieved higher gross revenues compared to other certifications categories.\n",
                "\n",
                "- U/A (has to be under parental supervision)\n",
                "- U (Universal)"
            ],
            "metadata": {
                "azdata_cell_guid": "09d9def1-4fc2-4d63-9e77-4beb54310f9c"
            },
            "attachments": {}
        },
        {
            "cell_type": "code",
            "source": [
                "\r\n",
                " select top 5 [Series_Title],[Certificate] , [Gross]\r\n",
                "from PortfolioProjects..Movie_imdb\r\n",
                "order by [Gross] desc;"
            ],
            "metadata": {
                "azdata_cell_guid": "5818bbbb-4ce8-4912-b9fe-c3a041fc9be5",
                "language": "sql"
            },
            "outputs": [
                {
                    "output_type": "display_data",
                    "data": {
                        "text/html": "(5 rows affected)"
                    },
                    "metadata": {}
                },
                {
                    "output_type": "display_data",
                    "data": {
                        "text/html": "Total execution time: 00:00:00.089"
                    },
                    "metadata": {}
                },
                {
                    "output_type": "execute_result",
                    "execution_count": 48,
                    "data": {
                        "application/vnd.dataresource+json": {
                            "schema": {
                                "fields": [
                                    {
                                        "name": "Series_Title"
                                    },
                                    {
                                        "name": "Certificate"
                                    },
                                    {
                                        "name": "Gross"
                                    }
                                ]
                            },
                            "data": [
                                {
                                    "Series_Title": "Star Wars: Episode VII - The Force Awakens",
                                    "Certificate": "U",
                                    "Gross": "936662225"
                                },
                                {
                                    "Series_Title": "Avengers: Endgame",
                                    "Certificate": "UA",
                                    "Gross": "858373000"
                                },
                                {
                                    "Series_Title": "Avatar",
                                    "Certificate": "UA",
                                    "Gross": "760507625"
                                },
                                {
                                    "Series_Title": "Avengers: Infinity War",
                                    "Certificate": "UA",
                                    "Gross": "678815482"
                                },
                                {
                                    "Series_Title": "Titanic",
                                    "Certificate": "UA",
                                    "Gross": "659325379"
                                }
                            ]
                        },
                        "text/html": "<table><tr><th>Series_Title</th><th>Certificate</th><th>Gross</th></tr><tr><td>Star Wars: Episode VII - The Force Awakens</td><td>U</td><td>936662225</td></tr><tr><td>Avengers: Endgame</td><td>UA</td><td>858373000</td></tr><tr><td>Avatar</td><td>UA</td><td>760507625</td></tr><tr><td>Avengers: Infinity War</td><td>UA</td><td>678815482</td></tr><tr><td>Titanic</td><td>UA</td><td>659325379</td></tr></table>"
                    },
                    "metadata": {}
                }
            ],
            "execution_count": 48
        }
    ]
}